{
  "nbformat": 4,
  "nbformat_minor": 5,
  "metadata": {
    "colab": {
      "name": "KaTaPaYadi - Decoder.ipynb",
      "provenance": [],
      "collapsed_sections": [],
      "include_colab_link": true
    },
    "kernelspec": {
      "display_name": "Python 3",
      "language": "python",
      "name": "python3"
    },
    "language_info": {
      "codemirror_mode": {
        "name": "ipython",
        "version": 3
      },
      "file_extension": ".py",
      "mimetype": "text/x-python",
      "name": "python",
      "nbconvert_exporter": "python",
      "pygments_lexer": "ipython3",
      "version": "3.8.5"
    }
  },
  "cells": [
    {
      "cell_type": "markdown",
      "metadata": {
        "id": "view-in-github",
        "colab_type": "text"
      },
      "source": [
        "<a href=\"https://colab.research.google.com/github/keshavmelnad/katapayadi_decoder/blob/main/KaTaPaYadi_Decoder.ipynb\" target=\"_parent\"><img src=\"https://colab.research.google.com/assets/colab-badge.svg\" alt=\"Open In Colab\"/></a>"
      ]
    },
    {
      "cell_type": "code",
      "metadata": {
        "id": "c80e6725",
        "colab": {
          "base_uri": "https://localhost:8080/"
        },
        "outputId": "e0b773db-78ff-48cc-de94-892c6c7da28c"
      },
      "source": [
        "!pip3 install indic_transliteration   # For Transliteration\n",
        "!pip3 install indicsyllabifier        # For Breaking down the syllables"
      ],
      "id": "c80e6725",
      "execution_count": 3,
      "outputs": [
        {
          "output_type": "stream",
          "text": [
            "Requirement already satisfied: indic_transliteration in /usr/local/lib/python3.7/dist-packages (2.1.3)\n",
            "Requirement already satisfied: backports.functools-lru-cache==1.6.4 in /usr/local/lib/python3.7/dist-packages (from indic_transliteration) (1.6.4)\n",
            "Requirement already satisfied: typer==0.3.2 in /usr/local/lib/python3.7/dist-packages (from indic_transliteration) (0.3.2)\n",
            "Requirement already satisfied: selenium==3.141.0 in /usr/local/lib/python3.7/dist-packages (from indic_transliteration) (3.141.0)\n",
            "Requirement already satisfied: regex==2020.10.11 in /usr/local/lib/python3.7/dist-packages (from indic_transliteration) (2020.10.11)\n",
            "Requirement already satisfied: click<7.2.0,>=7.1.1 in /usr/local/lib/python3.7/dist-packages (from typer==0.3.2->indic_transliteration) (7.1.2)\n",
            "Requirement already satisfied: urllib3 in /usr/local/lib/python3.7/dist-packages (from selenium==3.141.0->indic_transliteration) (1.24.3)\n",
            "Requirement already satisfied: indicsyllabifier in /usr/local/lib/python3.7/dist-packages (0.3)\n",
            "Requirement already satisfied: silpa-common in /usr/local/lib/python3.7/dist-packages (from indicsyllabifier) (0.3)\n",
            "Requirement already satisfied: setuptools in /usr/local/lib/python3.7/dist-packages (from indicsyllabifier) (57.0.0)\n"
          ],
          "name": "stdout"
        }
      ]
    },
    {
      "cell_type": "code",
      "metadata": {
        "id": "cc553e1a"
      },
      "source": [
        "from indic_transliteration import detect, sanscript\n",
        "from indic_transliteration.sanscript import SchemeMap, SCHEMES, transliterate\n",
        "import indicsyllabifier"
      ],
      "id": "cc553e1a",
      "execution_count": 4,
      "outputs": []
    },
    {
      "cell_type": "code",
      "metadata": {
        "id": "81074020"
      },
      "source": [
        "# A Function to get a scheme_map used in conversion of a script of any of the mentioned languages or schemes into SLP1 and Devanagari\n",
        "def get_scheme_map(scheme):\n",
        "    \n",
        "    supported_formats = [\"HK\", \"Devanagari\", \"IAST\", \"ITRANS\", \"Kolkata\", \"SLP1\", \"Kannada\", \"Malayalam\", \"Telugu\"]\n",
        "    \n",
        "    if scheme not in supported_formats:\n",
        "        print(\"The input text is not in supported format.\")\n",
        "        print(f\"List of supported formats : {supported_formats}\")\n",
        "        return \"\", \"\"\n",
        "    \n",
        "    if scheme == \"HK\":\n",
        "        script = sanscript.HK\n",
        "    \n",
        "    if scheme == \"Devanagari\":\n",
        "        script = sanscript.DEVANAGARI\n",
        "        \n",
        "    if scheme == \"IAST\":\n",
        "        script = sanscript.IAST\n",
        "        \n",
        "    if scheme == \"ITRANS\":\n",
        "        script = sanscript.ITRANS\n",
        "\n",
        "    if scheme == \"Kolkata\":\n",
        "        script = sanscript.KOLKATA\n",
        "    \n",
        "    if scheme == \"SLP1\":\n",
        "        script = sanscript.SLP1\n",
        "        \n",
        "    if scheme == \"Kannada\":\n",
        "        script = sanscript.KANNADA\n",
        "        \n",
        "    if scheme == 'Malayalam':\n",
        "        script = sanscript.MALAYALAM\n",
        "    \n",
        "    if scheme == 'Telugu':\n",
        "        script = sanscript.TELUGU\n",
        "        \n",
        "    \n",
        "    s1 = SchemeMap(SCHEMES[script], SCHEMES[sanscript.SLP1])\n",
        "    s2 = SchemeMap(SCHEMES[script], SCHEMES[sanscript.DEVANAGARI])\n",
        "    \n",
        "    return s1, s2\n"
      ],
      "id": "81074020",
      "execution_count": 5,
      "outputs": []
    },
    {
      "cell_type": "code",
      "metadata": {
        "id": "7bac7023"
      },
      "source": [
        "# A function for actual transliteration\n",
        "def get_transliteration(data, scheme_map):\n",
        "\n",
        "    return transliterate(data, scheme_map=scheme_map)\n"
      ],
      "id": "7bac7023",
      "execution_count": 6,
      "outputs": []
    },
    {
      "cell_type": "code",
      "metadata": {
        "id": "bcfd4fbb"
      },
      "source": [
        "# A function for breaking down a word into syllables\n",
        "def get_syllable(word):\n",
        "\n",
        "    syllablizer_handle = indicsyllabifier.getInstance()   # Get the Syllabifier class\n",
        "    syllables = syllablizer_handle.syllabify_hi(word)     # Initiate the Syllabifier for Hindi \n",
        "    \n",
        "    # A loop for converting each syllable from devanagari into SLP1 encoding\n",
        "    scheme_map = SchemeMap(SCHEMES[sanscript.DEVANAGARI], SCHEMES[sanscript.SLP1])\n",
        "    for syallable in syllables:\n",
        "        syallable_slp1 = transliterate(syallable, scheme_map=scheme_map)\n",
        "    \n",
        "    return syllables"
      ],
      "id": "bcfd4fbb",
      "execution_count": 7,
      "outputs": []
    },
    {
      "cell_type": "code",
      "metadata": {
        "id": "e6143d0f"
      },
      "source": [
        "def katapayadi(data, reverse=False):\n",
        "    NonConsonants = ['a', 'A', 'i', 'I', 'u', 'U', 'e', 'E', 'o', 'O', 'f', 'F', 'x', 'X']\n",
        "    Sorants = ['aM', 'aH']\n",
        "\n",
        "    # List of \"first letters\" of the SLP1 enoding of all the consonants\n",
        "    Consonants = ['k', 'K', 'g', 'G', 'N', 'c', 'C', 'j', 'J', 'Y', 'w', 'W', 'q', 'Q', 'R', 't', 'T', 'd', 'D', 'n', 'p', 'P', 'b', 'B', 'm', 'y', 'r', 'l', 'v', 'S', 'z', 's', 'h', 'L']\n",
        "    \n",
        "    # Each numeric value is matched to the consonant above (We can replace these both list by a dictionary)\n",
        "    NumereicalValue = [1, 2, 3, 4, 5, 6, 7, 8, 9, 0, 1, 2, 3, 4, 5, 6, 7, 8, 9, 0, 1, 2, 3, 4, 5, 1, 2, 3, 4, 5, 6, 7, 8, 9]\n",
        "\n",
        "    number = \"\"\n",
        "    for syllable in data:\n",
        "\n",
        "        # This is used to ignore some exceptions that arises in Malayalam \n",
        "        if syllable[0] not in Consonants + NonConsonants:\n",
        "            continue\n",
        "\n",
        "        if len(syllable) == 1 and syllable not in NonConsonants:\n",
        "            continue\n",
        "        \n",
        "        elif syllable in NonConsonants or syllable in Sorants:\n",
        "            new_digit = \"0\"\n",
        "\n",
        "        elif len(syllable) == 2 and syllable[0] in NonConsonants and syllable[1] not in Consonants: # For likes of \"AM (आं)\"\n",
        "            new_digit = \"0\"\n",
        "        \n",
        "        elif len(syllable) == 3 and syllable[1] in NonConsonants:\n",
        "            new_digit = str(NumereicalValue[Consonants.index(syllable[0])]) #\"kAe\"\n",
        "        \n",
        "        elif len(syllable) == 3:\n",
        "            new_digit = str(NumereicalValue[Consonants.index(syllable[1])])\n",
        "\n",
        "        elif len(syllable) == 4 and syllable[-2:] in Sorants:\n",
        "              new_digit = str(NumereicalValue[Consonants.index(syllable[-3])])\n",
        "        \n",
        "        else:\n",
        "            new_digit = str(NumereicalValue[Consonants.index(syllable[0])])\n",
        "        \n",
        "        if reverse == False:\n",
        "            number = new_digit + number\n",
        "        \n",
        "        else:\n",
        "            number += new_digit\n",
        "    \n",
        "    return int(number)"
      ],
      "id": "e6143d0f",
      "execution_count": 8,
      "outputs": []
    },
    {
      "cell_type": "code",
      "metadata": {
        "id": "dc38e476"
      },
      "source": [
        "def main():\n",
        "    data = input(\"Enter data : \")\n",
        "    reverse = input(\"Reverse the Katapayadi Number (T / F) : \")\n",
        "    \n",
        "    if reverse.lower() == \"t\":\n",
        "        reverse = True\n",
        "    else:\n",
        "        reverse = False\n",
        "    \n",
        "    scheme = detect.detect(data)\n",
        "    scheme_map = get_scheme_map(scheme)\n",
        "    \n",
        "    if scheme_map[0] != \"\":\n",
        "        data_slp1 = get_transliteration(data, scheme_map[0])\n",
        "        data_dev = get_transliteration(data, scheme_map[1])\n",
        "        #print(f\"\\nData : {data}\")\n",
        "        print(f\"\\nThe scheme is : {scheme}\")\n",
        "        print(f\"\\nConverted in SLP1 : {data_slp1}\")\n",
        "        print(f\"\\nConverted in Devnagri : {data_dev}\")\n",
        "\n",
        "        syllables = []\n",
        "        for word in data_dev.split():\n",
        "            syllables += get_syllable(word)\n",
        "        #print(syllables)\n",
        "\n",
        "        scheme_map = SchemeMap(SCHEMES[sanscript.DEVANAGARI], SCHEMES[sanscript.SLP1])\n",
        "        data = []\n",
        "        for syllable in syllables:\n",
        "            data.append(transliterate(syllable, scheme_map=scheme_map))\n",
        "        #print(data)\n",
        "        print(f\"\\nKatapayadi Number : {katapayadi(data, reverse)}\")"
      ],
      "id": "dc38e476",
      "execution_count": 9,
      "outputs": []
    },
    {
      "cell_type": "code",
      "metadata": {
        "colab": {
          "base_uri": "https://localhost:8080/"
        },
        "id": "35022171",
        "outputId": "9e2396e3-13d3-4026-b024-db9403e62c5c"
      },
      "source": [
        "main() # Example - bhadrāmbudhisiddhajanmagaṇitaśraddhā sma yad bhūpagīḥ"
      ],
      "id": "35022171",
      "execution_count": 10,
      "outputs": [
        {
          "output_type": "stream",
          "text": [
            "Enter data : bhadrāmbudhisiddhajanmagaṇitaśraddhā sma yad bhūpagīḥ\n",
            "Reverse the Katapayadi Number (T / F) : t\n",
            "\n",
            "The scheme is : IAST\n",
            "\n",
            "Converted in SLP1 : BadrAmbuDisidDajanmagaRitaSradDA sma yad BUpagIH\n",
            "\n",
            "Converted in Devnagri : भद्राम्बुधिसिद्धजन्मगणितश्रद्धा स्म यद् भूपगीः\n",
            "\n",
            "Katapayadi Number : 423979853562951413\n"
          ],
          "name": "stdout"
        }
      ]
    },
    {
      "cell_type": "code",
      "metadata": {
        "id": "3d21bbb7",
        "colab": {
          "base_uri": "https://localhost:8080/"
        },
        "outputId": "5cff6654-cc6d-47e2-b917-9caffa016629"
      },
      "source": [
        "main() # Example - āyurārogyasaukhyam"
      ],
      "id": "3d21bbb7",
      "execution_count": 11,
      "outputs": [
        {
          "output_type": "stream",
          "text": [
            "Enter data : āyurārogyasaukhyam\n",
            "Reverse the Katapayadi Number (T / F) : T\n",
            "\n",
            "The scheme is : IAST\n",
            "\n",
            "Converted in SLP1 : AyurArogyasOKyam\n",
            "\n",
            "Converted in Devnagri : आयुरारोग्यसौख्यम्\n",
            "\n",
            "Katapayadi Number : 122171\n"
          ],
          "name": "stdout"
        }
      ]
    },
    {
      "cell_type": "code",
      "metadata": {
        "id": "3662d2a1",
        "colab": {
          "base_uri": "https://localhost:8080/"
        },
        "outputId": "a0f617d9-110a-42a3-fd11-a893ee1923df"
      },
      "source": [
        "main() # Example - gopIBAgyamaDuvrAta-SfNgiSodaDisanDiga..  KalajIvitaKAtAva galahAlArasaMDara.."
      ],
      "id": "3662d2a1",
      "execution_count": 12,
      "outputs": [
        {
          "output_type": "stream",
          "text": [
            "Enter data : āyurārogyasaukhyam\n",
            "Reverse the Katapayadi Number (T / F) : f\n",
            "\n",
            "The scheme is : IAST\n",
            "\n",
            "Converted in SLP1 : AyurArogyasOKyam\n",
            "\n",
            "Converted in Devnagri : आयुरारोग्यसौख्यम्\n",
            "\n",
            "Katapayadi Number : 1712210\n"
          ],
          "name": "stdout"
        }
      ]
    },
    {
      "cell_type": "code",
      "metadata": {
        "colab": {
          "base_uri": "https://localhost:8080/"
        },
        "id": "2fd52142",
        "outputId": "63f55fde-a567-49a5-ae3f-fc1d388ab121"
      },
      "source": [
        "main() # Example - jYAnam paramam Dyeyam"
      ],
      "id": "2fd52142",
      "execution_count": 13,
      "outputs": [
        {
          "output_type": "stream",
          "text": [
            "Enter data : ಗೋಪೀಭಾಗ್ಯಮಧುವ್ರಾತ-ಶೃಂಗಿಶೋದಧಿಸಂಧಿಗ || ಖಲಜೀವಿತಖಾತಾವ ಗಲಹಾಲಾರಸಂಧರ ||\n",
            "Reverse the Katapayadi Number (T / F) : F\n",
            "\n",
            "The scheme is : Kannada\n",
            "\n",
            "Converted in SLP1 : gopIBAgyamaDuvrAta-SfMgiSodaDisaMDiga || KalajIvitaKAtAva galahAlArasaMDara ||\n",
            "\n",
            "Converted in Devnagri : गोपीभाग्यमधुव्रात-शृंगिशोदधिसंधिग || खलजीवितखाताव गलहालारसंधर ||\n",
            "\n",
            "Katapayadi Number : 29723833462648323979853562951413\n"
          ],
          "name": "stdout"
        }
      ]
    },
    {
      "cell_type": "code",
      "metadata": {
        "id": "711ddcf2",
        "colab": {
          "base_uri": "https://localhost:8080/"
        },
        "outputId": "bac17fa0-764c-439c-a2a7-f9435d0538ac"
      },
      "source": [
        "main() # Example - ಆಚಾರ್ಯವಾಗಭೇದ್ಯಾ"
      ],
      "id": "711ddcf2",
      "execution_count": 14,
      "outputs": [
        {
          "output_type": "stream",
          "text": [
            "Enter data : ಗೋಪೀಭಾಗ್ಯಮಧುವ್ರಾತ-ಶೃಂಗಿಶೋದಧಿಸಂಧಿಗ || ಖಲಜೀವಿತಖಾತಾವ ಗಲಹಾಲಾರಸಂಧರ ||\n",
            "Reverse the Katapayadi Number (T / F) : T\n",
            "\n",
            "The scheme is : Kannada\n",
            "\n",
            "Converted in SLP1 : gopIBAgyamaDuvrAta-SfMgiSodaDisaMDiga || KalajIvitaKAtAva galahAlArasaMDara ||\n",
            "\n",
            "Converted in Devnagri : गोपीभाग्यमधुव्रात-शृंगिशोदधिसंधिग || खलजीवितखाताव गलहालारसंधर ||\n",
            "\n",
            "Katapayadi Number : 31415926535897932384626433832792\n"
          ],
          "name": "stdout"
        }
      ]
    },
    {
      "cell_type": "code",
      "metadata": {
        "id": "b5b937f0",
        "colab": {
          "base_uri": "https://localhost:8080/"
        },
        "outputId": "05b49756-59fe-4925-f58d-4b0a4953348c"
      },
      "source": [
        "main() # Example - ಗೋಪೀಭಾಗ್ಯಮಧುವ್ರಾತ-ಶೃಂಗಿಶೋದಧಿಸಂಧಿಗ || ಖಲಜೀವಿತಖಾತಾವ ಗಲಹಾಲಾರಸಂಧರ ||"
      ],
      "id": "b5b937f0",
      "execution_count": 15,
      "outputs": [
        {
          "output_type": "stream",
          "text": [
            "Enter data : भद्राम्बुधिसिद्धजन्मगणितश्रद्धा स्म यद् भूपगी:\n",
            "Reverse the Katapayadi Number (T / F) : T\n",
            "\n",
            "The scheme is : Devanagari\n",
            "\n",
            "Converted in SLP1 : BadrAmbuDisidDajanmagaRitaSradDA sma yad BUpagI:\n",
            "\n",
            "Converted in Devnagri : भद्राम्बुधिसिद्धजन्मगणितश्रद्धा स्म यद् भूपगी:\n",
            "\n",
            "Katapayadi Number : 423979853562951413\n"
          ],
          "name": "stdout"
        }
      ]
    },
    {
      "cell_type": "code",
      "metadata": {
        "id": "edde856b",
        "colab": {
          "base_uri": "https://localhost:8080/"
        },
        "outputId": "93e0b6f9-dc2e-4e7a-d665-893a380265f6"
      },
      "source": [
        "main() # Example - ചണ്ഡാംശുചന്ദ്രാധമകുംഭിപാല"
      ],
      "id": "edde856b",
      "execution_count": 16,
      "outputs": [
        {
          "output_type": "stream",
          "text": [
            "Enter data : भद्राम्बुधिसिद्धजन्मगणितश्रद्धा स्म यद् भूपगी:\n",
            "Reverse the Katapayadi Number (T / F) : F\n",
            "\n",
            "The scheme is : Devanagari\n",
            "\n",
            "Converted in SLP1 : BadrAmbuDisidDajanmagaRitaSradDA sma yad BUpagI:\n",
            "\n",
            "Converted in Devnagri : भद्राम्बुधिसिद्धजन्मगणितश्रद्धा स्म यद् भूपगी:\n",
            "\n",
            "Katapayadi Number : 314159265358979324\n"
          ],
          "name": "stdout"
        }
      ]
    },
    {
      "cell_type": "code",
      "metadata": {
        "id": "6ce72a4b",
        "colab": {
          "base_uri": "https://localhost:8080/"
        },
        "outputId": "10e4adcd-74bf-4afe-9f0a-cd84d2cb8801"
      },
      "source": [
        "main() # Example - గోపీభాగ్యమధువ్రాత-శృంగిశోదధిసంధిగ |  ఖలజీవితఖాతావ గలహాలారసంధర ||"
      ],
      "id": "6ce72a4b",
      "execution_count": 17,
      "outputs": [
        {
          "output_type": "stream",
          "text": [
            "Enter data : भद्राम्बुधिसिद्धजन्मगणितश्रद्धा स्म यद् भूपगी:\n",
            "Reverse the Katapayadi Number (T / F) : T\n",
            "\n",
            "The scheme is : Devanagari\n",
            "\n",
            "Converted in SLP1 : BadrAmbuDisidDajanmagaRitaSradDA sma yad BUpagI:\n",
            "\n",
            "Converted in Devnagri : भद्राम्बुधिसिद्धजन्मगणितश्रद्धा स्म यद् भूपगी:\n",
            "\n",
            "Katapayadi Number : 423979853562951413\n"
          ],
          "name": "stdout"
        }
      ]
    },
    {
      "cell_type": "code",
      "metadata": {
        "id": "JYJ-EVuT3p1L",
        "colab": {
          "base_uri": "https://localhost:8080/"
        },
        "outputId": "c47f53aa-aebc-4605-dcac-9bf020f20374"
      },
      "source": [
        "main()"
      ],
      "id": "JYJ-EVuT3p1L",
      "execution_count": 18,
      "outputs": [
        {
          "output_type": "stream",
          "text": [
            "Enter data : भद्राम्बुधिसिद्धजन्मगणितश्रद्धा स्म यद् भूपगी:\n",
            "Reverse the Katapayadi Number (T / F) : T\n",
            "\n",
            "The scheme is : Devanagari\n",
            "\n",
            "Converted in SLP1 : BadrAmbuDisidDajanmagaRitaSradDA sma yad BUpagI:\n",
            "\n",
            "Converted in Devnagri : भद्राम्बुधिसिद्धजन्मगणितश्रद्धा स्म यद् भूपगी:\n",
            "\n",
            "Katapayadi Number : 423979853562951413\n"
          ],
          "name": "stdout"
        }
      ]
    },
    {
      "cell_type": "code",
      "metadata": {
        "id": "d8andTgZ36VN",
        "colab": {
          "base_uri": "https://localhost:8080/"
        },
        "outputId": "414965c5-fc40-4a7d-f38e-77ec79936e38"
      },
      "source": [
        "main()"
      ],
      "id": "d8andTgZ36VN",
      "execution_count": 19,
      "outputs": [
        {
          "output_type": "stream",
          "text": [
            "Enter data : भद्राम्बुधिसिद्धजन्मगणितश्रद्धा स्म यद् भूपगी:\n",
            "Reverse the Katapayadi Number (T / F) : F\n",
            "\n",
            "The scheme is : Devanagari\n",
            "\n",
            "Converted in SLP1 : BadrAmbuDisidDajanmagaRitaSradDA sma yad BUpagI:\n",
            "\n",
            "Converted in Devnagri : भद्राम्बुधिसिद्धजन्मगणितश्रद्धा स्म यद् भूपगी:\n",
            "\n",
            "Katapayadi Number : 314159265358979324\n"
          ],
          "name": "stdout"
        }
      ]
    },
    {
      "cell_type": "code",
      "metadata": {
        "id": "lSgJUvtTBjMa"
      },
      "source": [
        "main()"
      ],
      "id": "lSgJUvtTBjMa",
      "execution_count": null,
      "outputs": []
    },
    {
      "cell_type": "code",
      "metadata": {
        "id": "J3fq2w_sZW1h"
      },
      "source": [
        ""
      ],
      "id": "J3fq2w_sZW1h",
      "execution_count": null,
      "outputs": []
    }
  ]
}